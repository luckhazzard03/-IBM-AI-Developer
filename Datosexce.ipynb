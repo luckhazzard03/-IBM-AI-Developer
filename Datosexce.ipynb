{
  "nbformat": 4,
  "nbformat_minor": 0,
  "metadata": {
    "colab": {
      "provenance": [],
      "mount_file_id": "1ACG46gVFv4m2YOu-mgKB8ngaEypGncv3",
      "authorship_tag": "ABX9TyMQq7Zc7b5d9Z91HVic30w1",
      "include_colab_link": true
    },
    "kernelspec": {
      "name": "python3",
      "display_name": "Python 3"
    },
    "language_info": {
      "name": "python"
    }
  },
  "cells": [
    {
      "cell_type": "markdown",
      "metadata": {
        "id": "view-in-github",
        "colab_type": "text"
      },
      "source": [
        "<a href=\"https://colab.research.google.com/github/luckhazzard03/-IBM-AI-Developer/blob/main/Datosexce.ipynb\" target=\"_parent\"><img src=\"https://colab.research.google.com/assets/colab-badge.svg\" alt=\"Open In Colab\"/></a>"
      ]
    },
    {
      "cell_type": "code",
      "source": [
        "!python3 --version"
      ],
      "metadata": {
        "colab": {
          "base_uri": "https://localhost:8080/"
        },
        "id": "-QyiZ7bEWRBv",
        "outputId": "d90548d1-9f72-48ef-d72d-3aeeb40727e0"
      },
      "execution_count": 2,
      "outputs": [
        {
          "output_type": "stream",
          "name": "stdout",
          "text": [
            "Python 3.11.11\n"
          ]
        }
      ]
    },
    {
      "cell_type": "code",
      "source": [
        "import pandas as pd\n",
        "pd.__version__"
      ],
      "metadata": {
        "colab": {
          "base_uri": "https://localhost:8080/",
          "height": 35
        },
        "id": "10ZP-Hf2WbZY",
        "outputId": "bffab857-28c8-4e68-9319-8d22812eaf3b"
      },
      "execution_count": 3,
      "outputs": [
        {
          "output_type": "execute_result",
          "data": {
            "text/plain": [
              "'2.2.2'"
            ],
            "application/vnd.google.colaboratory.intrinsic+json": {
              "type": "string"
            }
          },
          "metadata": {},
          "execution_count": 3
        }
      ]
    },
    {
      "cell_type": "code",
      "source": [
        "!pip install PyPDF2"
      ],
      "metadata": {
        "colab": {
          "base_uri": "https://localhost:8080/"
        },
        "id": "mJYxhGhwWgix",
        "outputId": "389e86c2-eada-4ba4-95df-42eca717f4de"
      },
      "execution_count": 4,
      "outputs": [
        {
          "output_type": "stream",
          "name": "stdout",
          "text": [
            "Collecting PyPDF2\n",
            "  Downloading pypdf2-3.0.1-py3-none-any.whl.metadata (6.8 kB)\n",
            "Downloading pypdf2-3.0.1-py3-none-any.whl (232 kB)\n",
            "\u001b[?25l   \u001b[90m━━━━━━━━━━━━━━━━━━━━━━━━━━━━━━━━━━━━━━━━\u001b[0m \u001b[32m0.0/232.6 kB\u001b[0m \u001b[31m?\u001b[0m eta \u001b[36m-:--:--\u001b[0m\r\u001b[2K   \u001b[91m━━━━━━━━━━━━━━━━━━━━━━━━━━━━━━━━━━━━━━\u001b[0m\u001b[91m╸\u001b[0m\u001b[90m━\u001b[0m \u001b[32m225.3/232.6 kB\u001b[0m \u001b[31m7.3 MB/s\u001b[0m eta \u001b[36m0:00:01\u001b[0m\r\u001b[2K   \u001b[90m━━━━━━━━━━━━━━━━━━━━━━━━━━━━━━━━━━━━━━━━\u001b[0m \u001b[32m232.6/232.6 kB\u001b[0m \u001b[31m5.3 MB/s\u001b[0m eta \u001b[36m0:00:00\u001b[0m\n",
            "\u001b[?25hInstalling collected packages: PyPDF2\n",
            "Successfully installed PyPDF2-3.0.1\n"
          ]
        }
      ]
    },
    {
      "cell_type": "code",
      "source": [
        "from google.colab import files\n",
        "\n",
        "uploaded = files.upload()  # Aparecerá una ventana para seleccionar el archivo\n"
      ],
      "metadata": {
        "colab": {
          "base_uri": "https://localhost:8080/",
          "height": 212
        },
        "id": "UUVTEbE0Wo36",
        "outputId": "fc4916e7-0d33-4644-f965-0d089833fd9d"
      },
      "execution_count": 5,
      "outputs": [
        {
          "output_type": "display_data",
          "data": {
            "text/plain": [
              "<IPython.core.display.HTML object>"
            ],
            "text/html": [
              "\n",
              "     <input type=\"file\" id=\"files-eb604fa5-a4bf-40fc-8f29-83c56d50dc93\" name=\"files[]\" multiple disabled\n",
              "        style=\"border:none\" />\n",
              "     <output id=\"result-eb604fa5-a4bf-40fc-8f29-83c56d50dc93\">\n",
              "      Upload widget is only available when the cell has been executed in the\n",
              "      current browser session. Please rerun this cell to enable.\n",
              "      </output>\n",
              "      <script>// Copyright 2017 Google LLC\n",
              "//\n",
              "// Licensed under the Apache License, Version 2.0 (the \"License\");\n",
              "// you may not use this file except in compliance with the License.\n",
              "// You may obtain a copy of the License at\n",
              "//\n",
              "//      http://www.apache.org/licenses/LICENSE-2.0\n",
              "//\n",
              "// Unless required by applicable law or agreed to in writing, software\n",
              "// distributed under the License is distributed on an \"AS IS\" BASIS,\n",
              "// WITHOUT WARRANTIES OR CONDITIONS OF ANY KIND, either express or implied.\n",
              "// See the License for the specific language governing permissions and\n",
              "// limitations under the License.\n",
              "\n",
              "/**\n",
              " * @fileoverview Helpers for google.colab Python module.\n",
              " */\n",
              "(function(scope) {\n",
              "function span(text, styleAttributes = {}) {\n",
              "  const element = document.createElement('span');\n",
              "  element.textContent = text;\n",
              "  for (const key of Object.keys(styleAttributes)) {\n",
              "    element.style[key] = styleAttributes[key];\n",
              "  }\n",
              "  return element;\n",
              "}\n",
              "\n",
              "// Max number of bytes which will be uploaded at a time.\n",
              "const MAX_PAYLOAD_SIZE = 100 * 1024;\n",
              "\n",
              "function _uploadFiles(inputId, outputId) {\n",
              "  const steps = uploadFilesStep(inputId, outputId);\n",
              "  const outputElement = document.getElementById(outputId);\n",
              "  // Cache steps on the outputElement to make it available for the next call\n",
              "  // to uploadFilesContinue from Python.\n",
              "  outputElement.steps = steps;\n",
              "\n",
              "  return _uploadFilesContinue(outputId);\n",
              "}\n",
              "\n",
              "// This is roughly an async generator (not supported in the browser yet),\n",
              "// where there are multiple asynchronous steps and the Python side is going\n",
              "// to poll for completion of each step.\n",
              "// This uses a Promise to block the python side on completion of each step,\n",
              "// then passes the result of the previous step as the input to the next step.\n",
              "function _uploadFilesContinue(outputId) {\n",
              "  const outputElement = document.getElementById(outputId);\n",
              "  const steps = outputElement.steps;\n",
              "\n",
              "  const next = steps.next(outputElement.lastPromiseValue);\n",
              "  return Promise.resolve(next.value.promise).then((value) => {\n",
              "    // Cache the last promise value to make it available to the next\n",
              "    // step of the generator.\n",
              "    outputElement.lastPromiseValue = value;\n",
              "    return next.value.response;\n",
              "  });\n",
              "}\n",
              "\n",
              "/**\n",
              " * Generator function which is called between each async step of the upload\n",
              " * process.\n",
              " * @param {string} inputId Element ID of the input file picker element.\n",
              " * @param {string} outputId Element ID of the output display.\n",
              " * @return {!Iterable<!Object>} Iterable of next steps.\n",
              " */\n",
              "function* uploadFilesStep(inputId, outputId) {\n",
              "  const inputElement = document.getElementById(inputId);\n",
              "  inputElement.disabled = false;\n",
              "\n",
              "  const outputElement = document.getElementById(outputId);\n",
              "  outputElement.innerHTML = '';\n",
              "\n",
              "  const pickedPromise = new Promise((resolve) => {\n",
              "    inputElement.addEventListener('change', (e) => {\n",
              "      resolve(e.target.files);\n",
              "    });\n",
              "  });\n",
              "\n",
              "  const cancel = document.createElement('button');\n",
              "  inputElement.parentElement.appendChild(cancel);\n",
              "  cancel.textContent = 'Cancel upload';\n",
              "  const cancelPromise = new Promise((resolve) => {\n",
              "    cancel.onclick = () => {\n",
              "      resolve(null);\n",
              "    };\n",
              "  });\n",
              "\n",
              "  // Wait for the user to pick the files.\n",
              "  const files = yield {\n",
              "    promise: Promise.race([pickedPromise, cancelPromise]),\n",
              "    response: {\n",
              "      action: 'starting',\n",
              "    }\n",
              "  };\n",
              "\n",
              "  cancel.remove();\n",
              "\n",
              "  // Disable the input element since further picks are not allowed.\n",
              "  inputElement.disabled = true;\n",
              "\n",
              "  if (!files) {\n",
              "    return {\n",
              "      response: {\n",
              "        action: 'complete',\n",
              "      }\n",
              "    };\n",
              "  }\n",
              "\n",
              "  for (const file of files) {\n",
              "    const li = document.createElement('li');\n",
              "    li.append(span(file.name, {fontWeight: 'bold'}));\n",
              "    li.append(span(\n",
              "        `(${file.type || 'n/a'}) - ${file.size} bytes, ` +\n",
              "        `last modified: ${\n",
              "            file.lastModifiedDate ? file.lastModifiedDate.toLocaleDateString() :\n",
              "                                    'n/a'} - `));\n",
              "    const percent = span('0% done');\n",
              "    li.appendChild(percent);\n",
              "\n",
              "    outputElement.appendChild(li);\n",
              "\n",
              "    const fileDataPromise = new Promise((resolve) => {\n",
              "      const reader = new FileReader();\n",
              "      reader.onload = (e) => {\n",
              "        resolve(e.target.result);\n",
              "      };\n",
              "      reader.readAsArrayBuffer(file);\n",
              "    });\n",
              "    // Wait for the data to be ready.\n",
              "    let fileData = yield {\n",
              "      promise: fileDataPromise,\n",
              "      response: {\n",
              "        action: 'continue',\n",
              "      }\n",
              "    };\n",
              "\n",
              "    // Use a chunked sending to avoid message size limits. See b/62115660.\n",
              "    let position = 0;\n",
              "    do {\n",
              "      const length = Math.min(fileData.byteLength - position, MAX_PAYLOAD_SIZE);\n",
              "      const chunk = new Uint8Array(fileData, position, length);\n",
              "      position += length;\n",
              "\n",
              "      const base64 = btoa(String.fromCharCode.apply(null, chunk));\n",
              "      yield {\n",
              "        response: {\n",
              "          action: 'append',\n",
              "          file: file.name,\n",
              "          data: base64,\n",
              "        },\n",
              "      };\n",
              "\n",
              "      let percentDone = fileData.byteLength === 0 ?\n",
              "          100 :\n",
              "          Math.round((position / fileData.byteLength) * 100);\n",
              "      percent.textContent = `${percentDone}% done`;\n",
              "\n",
              "    } while (position < fileData.byteLength);\n",
              "  }\n",
              "\n",
              "  // All done.\n",
              "  yield {\n",
              "    response: {\n",
              "      action: 'complete',\n",
              "    }\n",
              "  };\n",
              "}\n",
              "\n",
              "scope.google = scope.google || {};\n",
              "scope.google.colab = scope.google.colab || {};\n",
              "scope.google.colab._files = {\n",
              "  _uploadFiles,\n",
              "  _uploadFilesContinue,\n",
              "};\n",
              "})(self);\n",
              "</script> "
            ]
          },
          "metadata": {}
        },
        {
          "output_type": "stream",
          "name": "stdout",
          "text": [
            "Saving documento_ley_comercio.pdf to documento_ley_comercio.pdf\n",
            "Saving documento_ley_datos.pdf to documento_ley_datos.pdf\n",
            "Saving documento_ley_propiedad.pdf to documento_ley_propiedad.pdf\n",
            "Saving documento_ley_seguridad.pdf to documento_ley_seguridad.pdf\n",
            "Saving documento_ley_transparencia.pdf to documento_ley_transparencia.pdf\n"
          ]
        }
      ]
    },
    {
      "cell_type": "code",
      "source": [
        "import os\n",
        "\n",
        "print(os.listdir())  # Muestra todos los archivos en el entorno\n"
      ],
      "metadata": {
        "colab": {
          "base_uri": "https://localhost:8080/"
        },
        "id": "z68HCZCPa8RE",
        "outputId": "e6c18267-1a0b-4f09-8e08-f45928b1e1d4"
      },
      "execution_count": 6,
      "outputs": [
        {
          "output_type": "stream",
          "name": "stdout",
          "text": [
            "['.config', 'drive', 'documento_ley_propiedad.pdf', 'documento_ley_comercio.pdf', 'documento_ley_datos.pdf', 'documento_ley_transparencia.pdf', 'documento_ley_seguridad.pdf', 'sample_data']\n"
          ]
        }
      ]
    },
    {
      "cell_type": "code",
      "source": [
        "import fitz  # PyMuPDF\n",
        "\n",
        "# Lista de PDFs\n",
        "pdf_files = [\n",
        "    \"documento_ley_comercio.pdf\",\n",
        "    \"documento_ley_datos.pdf\",\n",
        "    \"documento_ley_propiedad.pdf\",\n",
        "    \"documento_ley_seguridad.pdf\",\n",
        "    \"documento_ley_transparencia.pdf\"\n",
        "]\n",
        "\n",
        "# Leer y mostrar el contenido de cada PDF\n",
        "for pdf_document in pdf_files:\n",
        "    print(f\"\\n--- Contenido de {pdf_document} ---\\n\")\n",
        "\n",
        "    doc = fitz.open(pdf_document)\n",
        "\n",
        "    for page_num in range(len(doc)):\n",
        "        text = doc[page_num].get_text()\n",
        "        print(text)  # Muestra todo el texto del PDF para analizarlo\n",
        "\n",
        "    doc.close()\n"
      ],
      "metadata": {
        "colab": {
          "base_uri": "https://localhost:8080/"
        },
        "id": "2NsiN5DabMBn",
        "outputId": "9de6ae68-40a7-4917-c701-fef1103d4c56"
      },
      "execution_count": 12,
      "outputs": [
        {
          "output_type": "stream",
          "name": "stdout",
          "text": [
            "\n",
            "--- Contenido de documento_ley_comercio.pdf ---\n",
            "\n",
            "Documento Legal - Ley de Comercio Electrónico\n",
            "ID\n",
            "Nombre\n",
            "Fecha\n",
            "Tipo de Ley\n",
            "1\n",
            "Luis Fernández\n",
            "2024-02-14\n",
            "Ley de Comercio Electrónico\n",
            "2\n",
            "Camila Ortiz\n",
            "2023-08-09\n",
            "Ley de Comercio Electrónico\n",
            "3\n",
            "David Ruiz\n",
            "2022-06-22\n",
            "Ley de Comercio Electrónico\n",
            "4\n",
            "Andrea Pérez\n",
            "2021-04-30\n",
            "Ley de Comercio Electrónico\n",
            "5\n",
            "Javier López\n",
            "2020-10-15\n",
            "Ley de Comercio Electrónico\n",
            "\n",
            "\n",
            "--- Contenido de documento_ley_datos.pdf ---\n",
            "\n",
            "Documento Legal - Ley de Protección de Datos\n",
            "ID\n",
            "Nombre\n",
            "Fecha\n",
            "Tipo de Ley\n",
            "1\n",
            "Juan Pérez\n",
            "2024-03-21\n",
            "Ley de Protección de Datos\n",
            "2\n",
            "María López\n",
            "2023-06-14\n",
            "Ley de Protección de Datos\n",
            "3\n",
            "Carlos Díaz\n",
            "2022-08-30\n",
            "Ley de Protección de Datos\n",
            "4\n",
            "Ana Gómez\n",
            "2021-02-25\n",
            "Ley de Protección de Datos\n",
            "5\n",
            "Pedro Ramírez\n",
            "2020-09-18\n",
            "Ley de Protección de Datos\n",
            "\n",
            "\n",
            "--- Contenido de documento_ley_propiedad.pdf ---\n",
            "\n",
            "Documento Legal - Ley de Propiedad Intelectual\n",
            "ID\n",
            "Nombre\n",
            "Fecha\n",
            "Tipo de Ley\n",
            "1\n",
            "Martín Vélez\n",
            "2024-04-12\n",
            "Ley de Propiedad Intelectual\n",
            "2\n",
            "Gabriela Ríos\n",
            "2023-10-20\n",
            "Ley de Propiedad Intelectual\n",
            "3\n",
            "Sebastián Torres\n",
            "2022-12-28\n",
            "Ley de Propiedad Intelectual\n",
            "4\n",
            "Daniela Suárez\n",
            "2021-06-14\n",
            "Ley de Propiedad Intelectual\n",
            "5\n",
            "Tomás Navarro\n",
            "2020-08-03\n",
            "Ley de Propiedad Intelectual\n",
            "\n",
            "\n",
            "--- Contenido de documento_ley_seguridad.pdf ---\n",
            "\n",
            "Documento Legal - Ley de Seguridad Informática\n",
            "ID\n",
            "Nombre\n",
            "Fecha\n",
            "Tipo de Ley\n",
            "1\n",
            "Valeria Gómez\n",
            "2024-01-05\n",
            "Ley de Seguridad Informática\n",
            "2\n",
            "Roberto Sánchez\n",
            "2023-09-18\n",
            "Ley de Seguridad Informática\n",
            "3\n",
            "Patricia Medina\n",
            "2022-11-25\n",
            "Ley de Seguridad Informática\n",
            "4\n",
            "Alejandro Ramos\n",
            "2021-07-07\n",
            "Ley de Seguridad Informática\n",
            "5\n",
            "Fernando Castillo\n",
            "2020-05-19\n",
            "Ley de Seguridad Informática\n",
            "\n",
            "\n",
            "--- Contenido de documento_ley_transparencia.pdf ---\n",
            "\n",
            "Documento Legal - Ley de Transparencia\n",
            "ID\n",
            "Nombre\n",
            "Fecha\n",
            "Tipo de Ley\n",
            "1\n",
            "Sofía Herrera\n",
            "2024-05-10\n",
            "Ley de Transparencia\n",
            "2\n",
            "Miguel Castro\n",
            "2023-11-22\n",
            "Ley de Transparencia\n",
            "3\n",
            "Laura Fernández\n",
            "2022-07-14\n",
            "Ley de Transparencia\n",
            "4\n",
            "Ricardo Méndez\n",
            "2021-03-08\n",
            "Ley de Transparencia\n",
            "5\n",
            "Elena Torres\n",
            "2020-12-05\n",
            "Ley de Transparencia\n",
            "\n"
          ]
        }
      ]
    },
    {
      "cell_type": "code",
      "source": [
        "import fitz  # PyMuPDF\n",
        "import pandas as pd\n",
        "\n",
        "# Lista de PDFs\n",
        "pdf_files = [\n",
        "    \"documento_ley_comercio.pdf\",\n",
        "    \"documento_ley_datos.pdf\",\n",
        "    \"documento_ley_propiedad.pdf\",\n",
        "    \"documento_ley_seguridad.pdf\",\n",
        "    \"documento_ley_transparencia.pdf\"\n",
        "]\n",
        "\n",
        "# Lista para almacenar datos\n",
        "data = []\n",
        "\n",
        "# Extraer datos\n",
        "for pdf_document in pdf_files:\n",
        "    doc = fitz.open(pdf_document)\n",
        "\n",
        "    for page_num in range(len(doc)):\n",
        "        text = doc[page_num].get_text(\"text\").split(\"\\n\")  # Obtener texto línea por línea\n",
        "\n",
        "        # Buscar la posición del primer dato (evitar encabezados)\n",
        "        start_index = None\n",
        "        for i, line in enumerate(text):\n",
        "            if line.strip().isdigit():  # Si una línea es un número, asumimos que es un ID\n",
        "                start_index = i\n",
        "                break\n",
        "\n",
        "        if start_index is not None:\n",
        "            # Extraer datos de la tabla\n",
        "            for i in range(start_index, len(text), 4):\n",
        "                try:\n",
        "                    row = [text[i], text[i+1], text[i+2], text[i+3]]\n",
        "                    data.append(row)\n",
        "                except IndexError:\n",
        "                    continue\n",
        "\n",
        "    doc.close()\n",
        "\n",
        "# Crear DataFrame\n",
        "df = pd.DataFrame(data, columns=[\"ID\", \"Nombre\", \"Fecha\", \"Tipo de Ley\"])\n",
        "\n",
        "# Verificar si hay datos en el DataFrame\n",
        "if df.empty:\n",
        "    print(\" No se extrajeron datos. Revisa la estructura del PDF.\")\n",
        "else:\n",
        "    # Convertir ID a número\n",
        "    df[\"ID\"] = pd.to_numeric(df[\"ID\"], errors=\"coerce\").astype(\"Int64\")\n",
        "\n",
        "    # Convertir la columna \"Fecha\" a formato datetime\n",
        "    df[\"Fecha\"] = pd.to_datetime(df[\"Fecha\"], format=\"%Y-%m-%d\", errors=\"coerce\")\n",
        "\n",
        "    # Reorganizar en formato Día-Mes-Año (DD-MM-YYYY)\n",
        "    df[\"Fecha\"] = df[\"Fecha\"].dt.strftime(\"%d-%m-%Y\")\n",
        "\n",
        "    # Eliminar filas con valores inválidos y reiniciar índices\n",
        "    df = df.dropna().reset_index(drop=True)\n",
        "\n",
        "# Mostrar el DataFrame con la fecha en el nuevo formato\n",
        "print(df)\n"
      ],
      "metadata": {
        "colab": {
          "base_uri": "https://localhost:8080/"
        },
        "id": "OgFdMs9cbctZ",
        "outputId": "bb56599d-5925-49fe-bfd0-32ced7d7a9bd"
      },
      "execution_count": 14,
      "outputs": [
        {
          "output_type": "stream",
          "name": "stdout",
          "text": [
            "    ID             Nombre       Fecha                   Tipo de Ley\n",
            "0    1     Luis Fernández  14-02-2024   Ley de Comercio Electrónico\n",
            "1    2       Camila Ortiz  09-08-2023   Ley de Comercio Electrónico\n",
            "2    3         David Ruiz  22-06-2022   Ley de Comercio Electrónico\n",
            "3    4       Andrea Pérez  30-04-2021   Ley de Comercio Electrónico\n",
            "4    5       Javier López  15-10-2020   Ley de Comercio Electrónico\n",
            "5    1         Juan Pérez  21-03-2024    Ley de Protección de Datos\n",
            "6    2        María López  14-06-2023    Ley de Protección de Datos\n",
            "7    3        Carlos Díaz  30-08-2022    Ley de Protección de Datos\n",
            "8    4          Ana Gómez  25-02-2021    Ley de Protección de Datos\n",
            "9    5      Pedro Ramírez  18-09-2020    Ley de Protección de Datos\n",
            "10   1       Martín Vélez  12-04-2024  Ley de Propiedad Intelectual\n",
            "11   2      Gabriela Ríos  20-10-2023  Ley de Propiedad Intelectual\n",
            "12   3   Sebastián Torres  28-12-2022  Ley de Propiedad Intelectual\n",
            "13   4     Daniela Suárez  14-06-2021  Ley de Propiedad Intelectual\n",
            "14   5      Tomás Navarro  03-08-2020  Ley de Propiedad Intelectual\n",
            "15   1      Valeria Gómez  05-01-2024  Ley de Seguridad Informática\n",
            "16   2    Roberto Sánchez  18-09-2023  Ley de Seguridad Informática\n",
            "17   3    Patricia Medina  25-11-2022  Ley de Seguridad Informática\n",
            "18   4    Alejandro Ramos  07-07-2021  Ley de Seguridad Informática\n",
            "19   5  Fernando Castillo  19-05-2020  Ley de Seguridad Informática\n",
            "20   1      Sofía Herrera  10-05-2024          Ley de Transparencia\n",
            "21   2      Miguel Castro  22-11-2023          Ley de Transparencia\n",
            "22   3    Laura Fernández  14-07-2022          Ley de Transparencia\n",
            "23   4     Ricardo Méndez  08-03-2021          Ley de Transparencia\n",
            "24   5       Elena Torres  05-12-2020          Ley de Transparencia\n"
          ]
        }
      ]
    },
    {
      "cell_type": "code",
      "source": [
        "excel_filename = \"datos_extraidos.xlsx\"  # Guardar en el directorio actual\n",
        "df.to_excel(excel_filename, index=False)\n",
        "print(f\" Archivo guardado como {excel_filename}\")\n",
        "\n"
      ],
      "metadata": {
        "colab": {
          "base_uri": "https://localhost:8080/"
        },
        "id": "U38T704oeL25",
        "outputId": "a33dae17-601d-482a-9d92-540f55080ecd"
      },
      "execution_count": 16,
      "outputs": [
        {
          "output_type": "stream",
          "name": "stdout",
          "text": [
            "✅ Archivo guardado como datos_extraidos.xlsx\n"
          ]
        }
      ]
    },
    {
      "cell_type": "code",
      "source": [
        "from google.colab import files\n",
        "files.download(\"datos_extraidos.xlsx\")  # Descarga desde el directorio actual\n"
      ],
      "metadata": {
        "colab": {
          "base_uri": "https://localhost:8080/",
          "height": 17
        },
        "id": "g5XiP2Gfe5Yh",
        "outputId": "d932fabe-70ad-4e28-ecaf-e7644c1bbae2"
      },
      "execution_count": 17,
      "outputs": [
        {
          "output_type": "display_data",
          "data": {
            "text/plain": [
              "<IPython.core.display.Javascript object>"
            ],
            "application/javascript": [
              "\n",
              "    async function download(id, filename, size) {\n",
              "      if (!google.colab.kernel.accessAllowed) {\n",
              "        return;\n",
              "      }\n",
              "      const div = document.createElement('div');\n",
              "      const label = document.createElement('label');\n",
              "      label.textContent = `Downloading \"${filename}\": `;\n",
              "      div.appendChild(label);\n",
              "      const progress = document.createElement('progress');\n",
              "      progress.max = size;\n",
              "      div.appendChild(progress);\n",
              "      document.body.appendChild(div);\n",
              "\n",
              "      const buffers = [];\n",
              "      let downloaded = 0;\n",
              "\n",
              "      const channel = await google.colab.kernel.comms.open(id);\n",
              "      // Send a message to notify the kernel that we're ready.\n",
              "      channel.send({})\n",
              "\n",
              "      for await (const message of channel.messages) {\n",
              "        // Send a message to notify the kernel that we're ready.\n",
              "        channel.send({})\n",
              "        if (message.buffers) {\n",
              "          for (const buffer of message.buffers) {\n",
              "            buffers.push(buffer);\n",
              "            downloaded += buffer.byteLength;\n",
              "            progress.value = downloaded;\n",
              "          }\n",
              "        }\n",
              "      }\n",
              "      const blob = new Blob(buffers, {type: 'application/binary'});\n",
              "      const a = document.createElement('a');\n",
              "      a.href = window.URL.createObjectURL(blob);\n",
              "      a.download = filename;\n",
              "      div.appendChild(a);\n",
              "      a.click();\n",
              "      div.remove();\n",
              "    }\n",
              "  "
            ]
          },
          "metadata": {}
        },
        {
          "output_type": "display_data",
          "data": {
            "text/plain": [
              "<IPython.core.display.Javascript object>"
            ],
            "application/javascript": [
              "download(\"download_1252ca2f-1fd3-4188-b4e7-2cca6eb450e2\", \"datos_extraidos.xlsx\", 5876)"
            ]
          },
          "metadata": {}
        }
      ]
    },
    {
      "cell_type": "code",
      "source": [],
      "metadata": {
        "id": "8vidEsR-fPKl"
      },
      "execution_count": null,
      "outputs": []
    }
  ]
}