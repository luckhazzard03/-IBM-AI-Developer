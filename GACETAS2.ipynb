{
  "nbformat": 4,
  "nbformat_minor": 0,
  "metadata": {
    "colab": {
      "provenance": [],
      "authorship_tag": "ABX9TyN9KQFhoTPrq4BhARYPaNic",
      "include_colab_link": true
    },
    "kernelspec": {
      "name": "python3",
      "display_name": "Python 3"
    },
    "language_info": {
      "name": "python"
    }
  },
  "cells": [
    {
      "cell_type": "markdown",
      "metadata": {
        "id": "view-in-github",
        "colab_type": "text"
      },
      "source": [
        "<a href=\"https://colab.research.google.com/github/luckhazzard03/-IBM-AI-Developer/blob/main/GACETAS2.ipynb\" target=\"_parent\"><img src=\"https://colab.research.google.com/assets/colab-badge.svg\" alt=\"Open In Colab\"/></a>"
      ]
    },
    {
      "cell_type": "code",
      "execution_count": null,
      "metadata": {
        "colab": {
          "base_uri": "https://localhost:8080/"
        },
        "id": "1kkBU4iWpsj5",
        "outputId": "2d40ff55-d7cd-47c9-a700-6ae43dcd6499"
      },
      "outputs": [
        {
          "output_type": "stream",
          "name": "stdout",
          "text": [
            "1-21\n",
            "39-53\n",
            "135-160\n",
            "183-185\n",
            "209-225\n",
            "226-265\n",
            "413-433\n",
            "523-545\n",
            "598-609\n",
            "666-684\n",
            "759-785\n",
            "794-816\n",
            "850-865\n",
            "866-886\n",
            "887-920\n",
            "921-940\n",
            "941-955\n"
          ]
        }
      ],
      "source": [
        "# Todas las listas combinadas\n",
        "rangos = [\n",
        "    # Primera imagen\n",
        "    \"301-327\", \"301-327\", \"126-165\", \"166-190\", \"166-190\", \"191-225\", \"266-300\", \"328-350\", \"351-375\",\n",
        "    \"376-400\", \"436-460\", \"481-520\", \"521-550\", \"551-585\", \"61-90\", \"616-650\", \"651-685\", \"686-715\",\n",
        "    \"754-790\", \"791-820\", \"821-850\", \"91-125\", \"1-30\", \"226-265\", \"31-60\", \"401-435\", \"461-480\", \"586-615\",\n",
        "\n",
        "    # Segunda imagen\n",
        "    \"666-684\", \"413-433\", \"80-107\", \"1-21\", \"108-134\", \"135-160\", \"161-182\", \"183-185\", \"186-208\", \"209-225\",\n",
        "    \"22-38\", \"226-254\", \"283-307\", \"358-387\", \"388-412\", \"39-53\", \"434-458\", \"459-476\", \"477-503\", \"504-522\",\n",
        "    \"523-545\", \"54-79\", \"571-597\", \"598-609\", \"610-641\", \"642-665\", \"685-710\", \"711-735\", \"786-793\", \"794-816\",\n",
        "    \"817-849\", \"850-865\", \"866-886\", \"941-955\", \"308-335\", \"336-357\", \"546-570\", \"759-785\", \"887-920\", \"921-940\",\n",
        "    \"666-684\"\n",
        "]\n",
        "\n",
        "# Función para limpiar y extraer los dos números del rango\n",
        "def extraer_rango(rango):\n",
        "    rango = rango.replace(\" \", \"\").replace(\"(\", \"\").replace(\")\", \"\")\n",
        "    if '-' in rango:\n",
        "        partes = rango.split('-')\n",
        "        return int(partes[0]), int(partes[1])\n",
        "    else:\n",
        "        num = int(rango)\n",
        "        return num, num\n",
        "\n",
        "# Eliminar duplicados\n",
        "rangos_unicos = list(set(rangos))\n",
        "\n",
        "# Ordenar por el primer número del rango\n",
        "rangos_ordenados = sorted(rangos_unicos, key=lambda x: extraer_rango(x)[0])\n",
        "\n",
        "# Ahora filtrar para que sean consecutivos\n",
        "rangos_consecutivos = []\n",
        "for i in range(len(rangos_ordenados) - 1):\n",
        "    _, fin_actual = extraer_rango(rangos_ordenados[i])\n",
        "    inicio_siguiente, _ = extraer_rango(rangos_ordenados[i + 1])\n",
        "\n",
        "    if fin_actual + 1 == inicio_siguiente:\n",
        "        rangos_consecutivos.append(rangos_ordenados[i])\n",
        "\n",
        "# Agregar también el último rango si forma consecutivo\n",
        "if rangos_consecutivos:\n",
        "    ultimo = rangos_consecutivos[-1]\n",
        "    idx_ultimo = rangos_ordenados.index(ultimo)\n",
        "    if idx_ultimo + 1 < len(rangos_ordenados):\n",
        "        rangos_consecutivos.append(rangos_ordenados[idx_ultimo + 1])\n",
        "\n",
        "# Mostrar resultado\n",
        "for r in rangos_consecutivos:\n",
        "    print(r)\n"
      ]
    },
    {
      "cell_type": "code",
      "source": [],
      "metadata": {
        "id": "X0lsiVXNpyS9"
      },
      "execution_count": null,
      "outputs": []
    }
  ]
}