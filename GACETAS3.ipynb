{
  "nbformat": 4,
  "nbformat_minor": 0,
  "metadata": {
    "colab": {
      "provenance": [],
      "authorship_tag": "ABX9TyMWNQEE78zSQp9m/I4qhKs1",
      "include_colab_link": true
    },
    "kernelspec": {
      "name": "python3",
      "display_name": "Python 3"
    },
    "language_info": {
      "name": "python"
    }
  },
  "cells": [
    {
      "cell_type": "markdown",
      "metadata": {
        "id": "view-in-github",
        "colab_type": "text"
      },
      "source": [
        "<a href=\"https://colab.research.google.com/github/luckhazzard03/-IBM-AI-Developer/blob/main/GACETAS3.ipynb\" target=\"_parent\"><img src=\"https://colab.research.google.com/assets/colab-badge.svg\" alt=\"Open In Colab\"/></a>"
      ]
    },
    {
      "cell_type": "code",
      "execution_count": null,
      "metadata": {
        "id": "gzy0r_Rzt8do",
        "outputId": "442237f9-4333-4139-d062-72442ef2fc7c",
        "colab": {
          "base_uri": "https://localhost:8080/"
        }
      },
      "outputs": [
        {
          "output_type": "stream",
          "name": "stdout",
          "text": [
            "39-53\n",
            "183-185\n",
            "229-259\n",
            "511-513\n",
            "759-785\n",
            "794-816\n",
            "850-865\n",
            "866-886\n",
            "887-920\n",
            "921-940\n",
            "941-955\n"
          ]
        }
      ],
      "source": [
        "# Lista anterior\n",
        "rangos = [\n",
        "    # Primeras listas\n",
        "    \"301-327\", \"126-165\", \"166-190\", \"191-225\", \"266-300\", \"328-350\", \"351-375\", \"376-400\", \"436-460\",\n",
        "    \"481-520\", \"521-550\", \"551-585\", \"61-90\", \"616-650\", \"651-685\", \"686-715\", \"754-790\", \"791-820\",\n",
        "    \"821-850\", \"91-125\", \"1-30\", \"226-265\", \"31-60\", \"401-435\", \"461-480\", \"586-615\", \"666-684\",\n",
        "    \"413-433\", \"80-107\", \"1-21\", \"108-134\", \"135-160\", \"161-182\", \"183-185\", \"186-208\", \"209-225\",\n",
        "    \"22-38\", \"226-254\", \"283-307\", \"358-387\", \"388-412\", \"39-53\", \"434-458\", \"459-476\", \"477-503\",\n",
        "    \"504-522\", \"523-545\", \"54-79\", \"571-597\", \"598-609\", \"610-641\", \"642-665\", \"685-710\", \"711-735\",\n",
        "    \"786-793\", \"794-816\", \"817-849\", \"850-865\", \"866-886\", \"941-955\", \"308-335\", \"336-357\", \"546-570\",\n",
        "    \"759-785\", \"887-920\", \"921-940\", \"666-684\",\n",
        "\n",
        "    # Nueva imagen\n",
        "    \"219-238\", \"102-125\", \"126-159\", \"192-218\", \"229-259\", \"25-50\", \"260-284\", \"285-311\",\n",
        "    \"312-339\", \"340-369\", \"370-400\", \"401-429\", \"458-487\", \"488-510\", \"511-513\", \"543-567\",\n",
        "    \"601-626\", \"627-650\", \"651-680\", \"681-698\", \"69-101\", \"160-191\", \"430-457\", \"514-542\", \"568-600\"\n",
        "]\n",
        "\n",
        "# Función para extraer los números del rango\n",
        "def extraer_rango(rango):\n",
        "    rango = rango.replace(\" \", \"\").replace(\"(\", \"\").replace(\")\", \"\")\n",
        "    if '-' in rango:\n",
        "        partes = rango.split('-')\n",
        "        return int(partes[0]), int(partes[1])\n",
        "    else:\n",
        "        num = int(rango)\n",
        "        return num, num\n",
        "\n",
        "# Eliminar duplicados\n",
        "rangos_unicos = list(set(rangos))\n",
        "\n",
        "# Ordenar por el primer número del rango\n",
        "rangos_ordenados = sorted(rangos_unicos, key=lambda x: extraer_rango(x)[0])\n",
        "\n",
        "# Filtrar solo los consecutivos\n",
        "rangos_consecutivos = []\n",
        "for i in range(len(rangos_ordenados) - 1):\n",
        "    _, fin_actual = extraer_rango(rangos_ordenados[i])\n",
        "    inicio_siguiente, _ = extraer_rango(rangos_ordenados[i + 1])\n",
        "\n",
        "    if fin_actual + 1 == inicio_siguiente:\n",
        "        rangos_consecutivos.append(rangos_ordenados[i])\n",
        "\n",
        "# Agregar también el último rango si es consecutivo\n",
        "if rangos_consecutivos:\n",
        "    ultimo = rangos_consecutivos[-1]\n",
        "    idx_ultimo = rangos_ordenados.index(ultimo)\n",
        "    if idx_ultimo + 1 < len(rangos_ordenados):\n",
        "        rangos_consecutivos.append(rangos_ordenados[idx_ultimo + 1])\n",
        "\n",
        "# Mostrar resultado\n",
        "for r in rangos_consecutivos:\n",
        "    print(r)\n"
      ]
    },
    {
      "cell_type": "code",
      "source": [],
      "metadata": {
        "id": "17vPVJs4t-MF"
      },
      "execution_count": null,
      "outputs": []
    }
  ]
}