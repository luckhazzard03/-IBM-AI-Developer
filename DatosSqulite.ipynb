{
  "nbformat": 4,
  "nbformat_minor": 0,
  "metadata": {
    "colab": {
      "provenance": [],
      "authorship_tag": "ABX9TyPExn3ILsq8FnWidNQ0+2nw",
      "include_colab_link": true
    },
    "kernelspec": {
      "name": "python3",
      "display_name": "Python 3"
    },
    "language_info": {
      "name": "python"
    }
  },
  "cells": [
    {
      "cell_type": "markdown",
      "metadata": {
        "id": "view-in-github",
        "colab_type": "text"
      },
      "source": [
        "<a href=\"https://colab.research.google.com/github/luckhazzard03/-IBM-AI-Developer/blob/main/DatosSqulite.ipynb\" target=\"_parent\"><img src=\"https://colab.research.google.com/assets/colab-badge.svg\" alt=\"Open In Colab\"/></a>"
      ]
    },
    {
      "cell_type": "code",
      "execution_count": 1,
      "metadata": {
        "colab": {
          "base_uri": "https://localhost:8080/"
        },
        "id": "-P6jb3kmlXgf",
        "outputId": "1ead882b-711b-4c99-d384-9be4c92cdba2"
      },
      "outputs": [
        {
          "output_type": "stream",
          "name": "stdout",
          "text": [
            "Python 3.11.11\n"
          ]
        }
      ],
      "source": [
        "!python3 --version"
      ]
    },
    {
      "cell_type": "code",
      "source": [
        "import pandas as pd\n",
        "pd.__version__"
      ],
      "metadata": {
        "colab": {
          "base_uri": "https://localhost:8080/",
          "height": 35
        },
        "id": "-B7P7x5sl9cL",
        "outputId": "ad9b9424-ea47-4b86-a9e2-ac6243c5e8dc"
      },
      "execution_count": 2,
      "outputs": [
        {
          "output_type": "execute_result",
          "data": {
            "text/plain": [
              "'2.2.2'"
            ],
            "application/vnd.google.colaboratory.intrinsic+json": {
              "type": "string"
            }
          },
          "metadata": {},
          "execution_count": 2
        }
      ]
    },
    {
      "cell_type": "code",
      "source": [
        "!pip install pymupdf"
      ],
      "metadata": {
        "colab": {
          "base_uri": "https://localhost:8080/"
        },
        "id": "CvG7-HK5mKls",
        "outputId": "7f370b82-f241-433f-d1b6-cccdc098faeb"
      },
      "execution_count": 3,
      "outputs": [
        {
          "output_type": "stream",
          "name": "stdout",
          "text": [
            "Collecting pymupdf\n",
            "  Downloading pymupdf-1.25.4-cp39-abi3-manylinux2014_x86_64.manylinux_2_17_x86_64.whl.metadata (3.4 kB)\n",
            "Downloading pymupdf-1.25.4-cp39-abi3-manylinux2014_x86_64.manylinux_2_17_x86_64.whl (20.0 MB)\n",
            "\u001b[2K   \u001b[90m━━━━━━━━━━━━━━━━━━━━━━━━━━━━━━━━━━━━━━━━\u001b[0m \u001b[32m20.0/20.0 MB\u001b[0m \u001b[31m68.7 MB/s\u001b[0m eta \u001b[36m0:00:00\u001b[0m\n",
            "\u001b[?25hInstalling collected packages: pymupdf\n",
            "Successfully installed pymupdf-1.25.4\n"
          ]
        }
      ]
    },
    {
      "cell_type": "code",
      "source": [
        "#Se adjunta archivos pdf desde pc\n",
        "from google.colab import files\n",
        "uploaded = files.upload()"
      ],
      "metadata": {
        "colab": {
          "base_uri": "https://localhost:8080/",
          "height": 212
        },
        "id": "gBOUqYGkmo75",
        "outputId": "1491e246-0888-40b7-fea2-8ce91d53b311"
      },
      "execution_count": 5,
      "outputs": [
        {
          "output_type": "display_data",
          "data": {
            "text/plain": [
              "<IPython.core.display.HTML object>"
            ],
            "text/html": [
              "\n",
              "     <input type=\"file\" id=\"files-8c72af9d-3775-4b4a-9e78-825385065dab\" name=\"files[]\" multiple disabled\n",
              "        style=\"border:none\" />\n",
              "     <output id=\"result-8c72af9d-3775-4b4a-9e78-825385065dab\">\n",
              "      Upload widget is only available when the cell has been executed in the\n",
              "      current browser session. Please rerun this cell to enable.\n",
              "      </output>\n",
              "      <script>// Copyright 2017 Google LLC\n",
              "//\n",
              "// Licensed under the Apache License, Version 2.0 (the \"License\");\n",
              "// you may not use this file except in compliance with the License.\n",
              "// You may obtain a copy of the License at\n",
              "//\n",
              "//      http://www.apache.org/licenses/LICENSE-2.0\n",
              "//\n",
              "// Unless required by applicable law or agreed to in writing, software\n",
              "// distributed under the License is distributed on an \"AS IS\" BASIS,\n",
              "// WITHOUT WARRANTIES OR CONDITIONS OF ANY KIND, either express or implied.\n",
              "// See the License for the specific language governing permissions and\n",
              "// limitations under the License.\n",
              "\n",
              "/**\n",
              " * @fileoverview Helpers for google.colab Python module.\n",
              " */\n",
              "(function(scope) {\n",
              "function span(text, styleAttributes = {}) {\n",
              "  const element = document.createElement('span');\n",
              "  element.textContent = text;\n",
              "  for (const key of Object.keys(styleAttributes)) {\n",
              "    element.style[key] = styleAttributes[key];\n",
              "  }\n",
              "  return element;\n",
              "}\n",
              "\n",
              "// Max number of bytes which will be uploaded at a time.\n",
              "const MAX_PAYLOAD_SIZE = 100 * 1024;\n",
              "\n",
              "function _uploadFiles(inputId, outputId) {\n",
              "  const steps = uploadFilesStep(inputId, outputId);\n",
              "  const outputElement = document.getElementById(outputId);\n",
              "  // Cache steps on the outputElement to make it available for the next call\n",
              "  // to uploadFilesContinue from Python.\n",
              "  outputElement.steps = steps;\n",
              "\n",
              "  return _uploadFilesContinue(outputId);\n",
              "}\n",
              "\n",
              "// This is roughly an async generator (not supported in the browser yet),\n",
              "// where there are multiple asynchronous steps and the Python side is going\n",
              "// to poll for completion of each step.\n",
              "// This uses a Promise to block the python side on completion of each step,\n",
              "// then passes the result of the previous step as the input to the next step.\n",
              "function _uploadFilesContinue(outputId) {\n",
              "  const outputElement = document.getElementById(outputId);\n",
              "  const steps = outputElement.steps;\n",
              "\n",
              "  const next = steps.next(outputElement.lastPromiseValue);\n",
              "  return Promise.resolve(next.value.promise).then((value) => {\n",
              "    // Cache the last promise value to make it available to the next\n",
              "    // step of the generator.\n",
              "    outputElement.lastPromiseValue = value;\n",
              "    return next.value.response;\n",
              "  });\n",
              "}\n",
              "\n",
              "/**\n",
              " * Generator function which is called between each async step of the upload\n",
              " * process.\n",
              " * @param {string} inputId Element ID of the input file picker element.\n",
              " * @param {string} outputId Element ID of the output display.\n",
              " * @return {!Iterable<!Object>} Iterable of next steps.\n",
              " */\n",
              "function* uploadFilesStep(inputId, outputId) {\n",
              "  const inputElement = document.getElementById(inputId);\n",
              "  inputElement.disabled = false;\n",
              "\n",
              "  const outputElement = document.getElementById(outputId);\n",
              "  outputElement.innerHTML = '';\n",
              "\n",
              "  const pickedPromise = new Promise((resolve) => {\n",
              "    inputElement.addEventListener('change', (e) => {\n",
              "      resolve(e.target.files);\n",
              "    });\n",
              "  });\n",
              "\n",
              "  const cancel = document.createElement('button');\n",
              "  inputElement.parentElement.appendChild(cancel);\n",
              "  cancel.textContent = 'Cancel upload';\n",
              "  const cancelPromise = new Promise((resolve) => {\n",
              "    cancel.onclick = () => {\n",
              "      resolve(null);\n",
              "    };\n",
              "  });\n",
              "\n",
              "  // Wait for the user to pick the files.\n",
              "  const files = yield {\n",
              "    promise: Promise.race([pickedPromise, cancelPromise]),\n",
              "    response: {\n",
              "      action: 'starting',\n",
              "    }\n",
              "  };\n",
              "\n",
              "  cancel.remove();\n",
              "\n",
              "  // Disable the input element since further picks are not allowed.\n",
              "  inputElement.disabled = true;\n",
              "\n",
              "  if (!files) {\n",
              "    return {\n",
              "      response: {\n",
              "        action: 'complete',\n",
              "      }\n",
              "    };\n",
              "  }\n",
              "\n",
              "  for (const file of files) {\n",
              "    const li = document.createElement('li');\n",
              "    li.append(span(file.name, {fontWeight: 'bold'}));\n",
              "    li.append(span(\n",
              "        `(${file.type || 'n/a'}) - ${file.size} bytes, ` +\n",
              "        `last modified: ${\n",
              "            file.lastModifiedDate ? file.lastModifiedDate.toLocaleDateString() :\n",
              "                                    'n/a'} - `));\n",
              "    const percent = span('0% done');\n",
              "    li.appendChild(percent);\n",
              "\n",
              "    outputElement.appendChild(li);\n",
              "\n",
              "    const fileDataPromise = new Promise((resolve) => {\n",
              "      const reader = new FileReader();\n",
              "      reader.onload = (e) => {\n",
              "        resolve(e.target.result);\n",
              "      };\n",
              "      reader.readAsArrayBuffer(file);\n",
              "    });\n",
              "    // Wait for the data to be ready.\n",
              "    let fileData = yield {\n",
              "      promise: fileDataPromise,\n",
              "      response: {\n",
              "        action: 'continue',\n",
              "      }\n",
              "    };\n",
              "\n",
              "    // Use a chunked sending to avoid message size limits. See b/62115660.\n",
              "    let position = 0;\n",
              "    do {\n",
              "      const length = Math.min(fileData.byteLength - position, MAX_PAYLOAD_SIZE);\n",
              "      const chunk = new Uint8Array(fileData, position, length);\n",
              "      position += length;\n",
              "\n",
              "      const base64 = btoa(String.fromCharCode.apply(null, chunk));\n",
              "      yield {\n",
              "        response: {\n",
              "          action: 'append',\n",
              "          file: file.name,\n",
              "          data: base64,\n",
              "        },\n",
              "      };\n",
              "\n",
              "      let percentDone = fileData.byteLength === 0 ?\n",
              "          100 :\n",
              "          Math.round((position / fileData.byteLength) * 100);\n",
              "      percent.textContent = `${percentDone}% done`;\n",
              "\n",
              "    } while (position < fileData.byteLength);\n",
              "  }\n",
              "\n",
              "  // All done.\n",
              "  yield {\n",
              "    response: {\n",
              "      action: 'complete',\n",
              "    }\n",
              "  };\n",
              "}\n",
              "\n",
              "scope.google = scope.google || {};\n",
              "scope.google.colab = scope.google.colab || {};\n",
              "scope.google.colab._files = {\n",
              "  _uploadFiles,\n",
              "  _uploadFilesContinue,\n",
              "};\n",
              "})(self);\n",
              "</script> "
            ]
          },
          "metadata": {}
        },
        {
          "output_type": "stream",
          "name": "stdout",
          "text": [
            "Saving documento_ley_comercio.pdf to documento_ley_comercio.pdf\n",
            "Saving documento_ley_datos.pdf to documento_ley_datos.pdf\n",
            "Saving documento_ley_propiedad.pdf to documento_ley_propiedad.pdf\n",
            "Saving documento_ley_seguridad.pdf to documento_ley_seguridad.pdf\n",
            "Saving documento_ley_transparencia.pdf to documento_ley_transparencia.pdf\n"
          ]
        }
      ]
    },
    {
      "cell_type": "code",
      "source": [
        "#Verificación de archivos subidos correctamente\n",
        "import os\n",
        "print(os.listdir())"
      ],
      "metadata": {
        "colab": {
          "base_uri": "https://localhost:8080/"
        },
        "id": "hDXefegpm-R9",
        "outputId": "e676a043-e609-43a7-cd55-563cb720ca09"
      },
      "execution_count": 6,
      "outputs": [
        {
          "output_type": "stream",
          "name": "stdout",
          "text": [
            "['.config', 'documento_ley_propiedad.pdf', 'documento_ley_comercio.pdf', 'documento_ley_datos.pdf', 'documento_ley_transparencia.pdf', 'documento_ley_seguridad.pdf', 'sample_data']\n"
          ]
        }
      ]
    },
    {
      "cell_type": "code",
      "source": [
        "#Instalar SQLAlcheamy\n",
        "!pip install sqlalchemy"
      ],
      "metadata": {
        "colab": {
          "base_uri": "https://localhost:8080/"
        },
        "id": "jBPIOla6nOwg",
        "outputId": "456ef089-b658-4dd0-ee39-e23037855e43"
      },
      "execution_count": 8,
      "outputs": [
        {
          "output_type": "stream",
          "name": "stdout",
          "text": [
            "Requirement already satisfied: sqlalchemy in /usr/local/lib/python3.11/dist-packages (2.0.39)\n",
            "Requirement already satisfied: greenlet!=0.4.17 in /usr/local/lib/python3.11/dist-packages (from sqlalchemy) (3.1.1)\n",
            "Requirement already satisfied: typing-extensions>=4.6.0 in /usr/local/lib/python3.11/dist-packages (from sqlalchemy) (4.12.2)\n"
          ]
        }
      ]
    },
    {
      "cell_type": "code",
      "source": [
        "# verificación de la versión SQL\n",
        "import sqlalchemy\n",
        "print(sqlalchemy.__version__)  # Debería mostrar 2.0.39"
      ],
      "metadata": {
        "colab": {
          "base_uri": "https://localhost:8080/"
        },
        "id": "LXNm3STwnffb",
        "outputId": "2451635f-8498-4236-fcb0-a40ef80ecdd2"
      },
      "execution_count": 9,
      "outputs": [
        {
          "output_type": "stream",
          "name": "stdout",
          "text": [
            "2.0.39\n"
          ]
        }
      ]
    },
    {
      "cell_type": "code",
      "source": [
        "from sqlalchemy import create_engine, Column, Integer, String, Date\n",
        "from sqlalchemy.orm import declarative_base, sessionmaker\n",
        "\n",
        "# Crear la conexión a SQLite\n",
        "engine = create_engine(\"sqlite:///leyes.db\")\n",
        "Base = declarative_base()\n",
        "\n",
        "# Definir el modelo de datos\n",
        "class Ley(Base):\n",
        "    __tablename__ = \"leyes\"\n",
        "\n",
        "    id = Column(Integer, primary_key=True, autoincrement=True)  # SQLite generará el ID automáticamente\n",
        "    nombre = Column(String, nullable=False)\n",
        "    fecha = Column(Date, nullable=False)\n",
        "    tipo_ley = Column(String, nullable=False)\n",
        "\n",
        "# Crear la base de datos y la tabla\n",
        "Base.metadata.create_all(engine)\n",
        "\n",
        "# Crear una sesión para interactuar con la base de datos\n",
        "Session = sessionmaker(bind=engine)  # Corregido sessionmaker\n",
        "session = Session()\n",
        "\n",
        "print(\"✅ Base de datos y tabla creadas correctamente.\")\n"
      ],
      "metadata": {
        "colab": {
          "base_uri": "https://localhost:8080/"
        },
        "id": "3lFFfrm0n6dY",
        "outputId": "ca0784a0-0d70-4821-b580-76f7bbd027cd"
      },
      "execution_count": 14,
      "outputs": [
        {
          "output_type": "stream",
          "name": "stdout",
          "text": [
            "✅ Base de datos y tabla creadas correctamente.\n"
          ]
        }
      ]
    },
    {
      "cell_type": "code",
      "source": [
        "import fitz  # PyMuPDF\n",
        "from datetime import datetime\n",
        "\n",
        "# Lista de PDFs\n",
        "pdf_files = [\n",
        "    \"documento_ley_comercio.pdf\",\n",
        "    \"documento_ley_datos.pdf\",\n",
        "    \"documento_ley_propiedad.pdf\",\n",
        "    \"documento_ley_seguridad.pdf\",\n",
        "    \"documento_ley_transparencia.pdf\"\n",
        "]\n",
        "\n",
        "# Extraer datos y guardarlos en la BD\n",
        "for pdf_document in pdf_files:\n",
        "    doc = fitz.open(pdf_document)\n",
        "\n",
        "    for page_num in range(len(doc)):\n",
        "        text = doc[page_num].get_text(\"text\").split(\"\\n\")  # Obtener texto línea por línea\n",
        "\n",
        "        # Buscar la posición del primer dato (evitar encabezados)\n",
        "        start_index = None\n",
        "        for i, line in enumerate(text):\n",
        "            if line.strip().isdigit():  # Si una línea es un número, asumimos que es un ID\n",
        "                start_index = i\n",
        "                break\n",
        "\n",
        "        if start_index is not None:\n",
        "            for i in range(start_index, len(text), 4):\n",
        "                try:\n",
        "                    # Extraer datos\n",
        "                    nombre = text[i+1].strip()\n",
        "                    fecha = datetime.strptime(text[i+2].strip(), \"%Y-%m-%d\").date()\n",
        "                    tipo_ley = text[i+3].strip()\n",
        "\n",
        "                    # Insertar en la base de datos SIN ID (SQLite lo genera automáticamente)\n",
        "                    nueva_ley = Ley(nombre=nombre, fecha=fecha, tipo_ley=tipo_ley)\n",
        "                    session.add(nueva_ley)\n",
        "                except (IndexError, ValueError):\n",
        "                    continue  # Evita errores por datos incompletos\n",
        "\n",
        "    doc.close()\n",
        "\n",
        "# Guardar los cambios en la BD\n",
        "session.commit()\n",
        "print(\"✅ Datos guardados en SQLite correctamente.\")\n"
      ],
      "metadata": {
        "colab": {
          "base_uri": "https://localhost:8080/"
        },
        "id": "_A0zsSOJqBd4",
        "outputId": "f999114f-629e-425f-fc72-75e64e1f0a84"
      },
      "execution_count": 15,
      "outputs": [
        {
          "output_type": "stream",
          "name": "stdout",
          "text": [
            "✅ Datos guardados en SQLite correctamente.\n"
          ]
        }
      ]
    },
    {
      "cell_type": "code",
      "source": [
        "# Consultar datos de la BD\n",
        "leyes = session.query(Ley).all()\n",
        "\n",
        "# Convertir a DataFrame para visualización\n",
        "df = pd.DataFrame([(l.id, l.nombre, l.fecha.strftime(\"%d-%m-%Y\"), l.tipo_ley) for l in leyes],\n",
        "                  columns=[\"ID\", \"Nombre\", \"Fecha\", \"Tipo de Ley\"])\n",
        "\n",
        "print(df)"
      ],
      "metadata": {
        "colab": {
          "base_uri": "https://localhost:8080/"
        },
        "id": "PmjJUgjSvFI6",
        "outputId": "38fdacd5-fc29-4073-a989-0da40c48aebd"
      },
      "execution_count": 16,
      "outputs": [
        {
          "output_type": "stream",
          "name": "stdout",
          "text": [
            "    ID             Nombre       Fecha                   Tipo de Ley\n",
            "0    1     Luis Fernández  14-02-2024   Ley de Comercio Electrónico\n",
            "1    2       Camila Ortiz  09-08-2023   Ley de Comercio Electrónico\n",
            "2    3         David Ruiz  22-06-2022   Ley de Comercio Electrónico\n",
            "3    4       Andrea Pérez  30-04-2021   Ley de Comercio Electrónico\n",
            "4    5       Javier López  15-10-2020   Ley de Comercio Electrónico\n",
            "5    6         Juan Pérez  21-03-2024    Ley de Protección de Datos\n",
            "6    7        María López  14-06-2023    Ley de Protección de Datos\n",
            "7    8        Carlos Díaz  30-08-2022    Ley de Protección de Datos\n",
            "8    9          Ana Gómez  25-02-2021    Ley de Protección de Datos\n",
            "9   10      Pedro Ramírez  18-09-2020    Ley de Protección de Datos\n",
            "10  11       Martín Vélez  12-04-2024  Ley de Propiedad Intelectual\n",
            "11  12      Gabriela Ríos  20-10-2023  Ley de Propiedad Intelectual\n",
            "12  13   Sebastián Torres  28-12-2022  Ley de Propiedad Intelectual\n",
            "13  14     Daniela Suárez  14-06-2021  Ley de Propiedad Intelectual\n",
            "14  15      Tomás Navarro  03-08-2020  Ley de Propiedad Intelectual\n",
            "15  16      Valeria Gómez  05-01-2024  Ley de Seguridad Informática\n",
            "16  17    Roberto Sánchez  18-09-2023  Ley de Seguridad Informática\n",
            "17  18    Patricia Medina  25-11-2022  Ley de Seguridad Informática\n",
            "18  19    Alejandro Ramos  07-07-2021  Ley de Seguridad Informática\n",
            "19  20  Fernando Castillo  19-05-2020  Ley de Seguridad Informática\n",
            "20  21      Sofía Herrera  10-05-2024          Ley de Transparencia\n",
            "21  22      Miguel Castro  22-11-2023          Ley de Transparencia\n",
            "22  23    Laura Fernández  14-07-2022          Ley de Transparencia\n",
            "23  24     Ricardo Méndez  08-03-2021          Ley de Transparencia\n",
            "24  25       Elena Torres  05-12-2020          Ley de Transparencia\n"
          ]
        }
      ]
    },
    {
      "cell_type": "code",
      "source": [
        "# Consultar datos y exportar a Excel\n",
        "df.to_excel(\"leyes.xlsx\", index=False)\n",
        "\n",
        "# Descargar el archivo en Google Colab\n",
        "from google.colab import files\n",
        "files.download(\"leyes.xlsx\")"
      ],
      "metadata": {
        "colab": {
          "base_uri": "https://localhost:8080/",
          "height": 17
        },
        "id": "zX-NHAT1wmVE",
        "outputId": "a32f5b12-a1a8-4beb-eb75-5fd96fbc9c1b"
      },
      "execution_count": 17,
      "outputs": [
        {
          "output_type": "display_data",
          "data": {
            "text/plain": [
              "<IPython.core.display.Javascript object>"
            ],
            "application/javascript": [
              "\n",
              "    async function download(id, filename, size) {\n",
              "      if (!google.colab.kernel.accessAllowed) {\n",
              "        return;\n",
              "      }\n",
              "      const div = document.createElement('div');\n",
              "      const label = document.createElement('label');\n",
              "      label.textContent = `Downloading \"${filename}\": `;\n",
              "      div.appendChild(label);\n",
              "      const progress = document.createElement('progress');\n",
              "      progress.max = size;\n",
              "      div.appendChild(progress);\n",
              "      document.body.appendChild(div);\n",
              "\n",
              "      const buffers = [];\n",
              "      let downloaded = 0;\n",
              "\n",
              "      const channel = await google.colab.kernel.comms.open(id);\n",
              "      // Send a message to notify the kernel that we're ready.\n",
              "      channel.send({})\n",
              "\n",
              "      for await (const message of channel.messages) {\n",
              "        // Send a message to notify the kernel that we're ready.\n",
              "        channel.send({})\n",
              "        if (message.buffers) {\n",
              "          for (const buffer of message.buffers) {\n",
              "            buffers.push(buffer);\n",
              "            downloaded += buffer.byteLength;\n",
              "            progress.value = downloaded;\n",
              "          }\n",
              "        }\n",
              "      }\n",
              "      const blob = new Blob(buffers, {type: 'application/binary'});\n",
              "      const a = document.createElement('a');\n",
              "      a.href = window.URL.createObjectURL(blob);\n",
              "      a.download = filename;\n",
              "      div.appendChild(a);\n",
              "      a.click();\n",
              "      div.remove();\n",
              "    }\n",
              "  "
            ]
          },
          "metadata": {}
        },
        {
          "output_type": "display_data",
          "data": {
            "text/plain": [
              "<IPython.core.display.Javascript object>"
            ],
            "application/javascript": [
              "download(\"download_35d66074-f392-4299-a6ee-3c39822cab39\", \"leyes.xlsx\", 5929)"
            ]
          },
          "metadata": {}
        }
      ]
    },
    {
      "cell_type": "code",
      "source": [],
      "metadata": {
        "id": "L6-nBudxwvCV"
      },
      "execution_count": null,
      "outputs": []
    }
  ]
}